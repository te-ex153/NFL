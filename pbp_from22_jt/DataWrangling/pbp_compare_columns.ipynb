{
 "cells": [
  {
   "cell_type": "code",
   "execution_count": 8,
   "id": "2804810d-fa4d-423b-bb23-6c4305da0e1b",
   "metadata": {},
   "outputs": [],
   "source": [
    "import pandas as pd\n",
    "\n",
    "# Load your Excel file\n",
    "df = pd.read_excel('column_compare.xlsx')\n",
    "\n",
    "# Assume the columns are named 'master' and 'subset'\n",
    "master = df[\"Master\"]\n",
    "subset = df[\"Subset\"]\n",
    "\n",
    "# Find which values in master are NOT in subset\n",
    "excluded = master[~master.isin(subset)]\n",
    "\n",
    "# Put results in a new DataFrame\n",
    "excluded_df = pd.DataFrame({\"excluded\": excluded})\n",
    "\n",
    "# Export to a new Excel file\n",
    "excluded_df.to_excel(\"excluded_entries.xlsx\", index=False)\n"
   ]
  },
  {
   "cell_type": "code",
   "execution_count": null,
   "id": "3dece62e-d140-440f-a797-624b6b6a7c85",
   "metadata": {},
   "outputs": [],
   "source": []
  }
 ],
 "metadata": {
  "kernelspec": {
   "display_name": "Python 3 (ipykernel)",
   "language": "python",
   "name": "python3"
  },
  "language_info": {
   "codemirror_mode": {
    "name": "ipython",
    "version": 3
   },
   "file_extension": ".py",
   "mimetype": "text/x-python",
   "name": "python",
   "nbconvert_exporter": "python",
   "pygments_lexer": "ipython3",
   "version": "3.12.6"
  }
 },
 "nbformat": 4,
 "nbformat_minor": 5
}
