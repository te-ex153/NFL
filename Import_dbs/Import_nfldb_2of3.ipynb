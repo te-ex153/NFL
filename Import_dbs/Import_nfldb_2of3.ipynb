{
 "cells": [
  {
   "cell_type": "markdown",
   "id": "c4222a96-dead-4788-987a-de44f8905a23",
   "metadata": {},
   "source": [
    "# Import and send tables to nfl database\n",
    "## 9. import_officials_data\n",
    "## 10. import_schedules_data\n",
    "## 11. import_seasonal_rosters\n",
    "## 12. import_weekly_rosters\n",
    "## 13. import_players\n",
    "## 14. import_depth_charts\n",
    "## 15. import_injuries\n",
    "## 16. import_ids\n"
   ]
  },
  {
   "cell_type": "code",
   "execution_count": 1,
   "id": "afb379e6-eaa0-445e-a712-cdafe9a2b232",
   "metadata": {},
   "outputs": [
    {
     "data": {
      "text/plain": [
       "<sqlite3.Connection at 0x20995d9ce50>"
      ]
     },
     "execution_count": 1,
     "metadata": {},
     "output_type": "execute_result"
    }
   ],
   "source": [
    "# In Python or a script, just to confirm:\n",
    "import sqlite3\n",
    "sqlite3.connect(r\"C:\\Users\\tx400\\SQL_Downloads\\nfl_data_db.sqlite\")"
   ]
  },
  {
   "cell_type": "code",
   "execution_count": 2,
   "id": "68fd6ee0-33dd-47eb-a969-fa7839189b0d",
   "metadata": {},
   "outputs": [],
   "source": [
    "import nfl_data_py as nfl\n",
    "import sqlite3\n",
    "import pandas as pd\n",
    "import numpy as np\n",
    "\n",
    "# Connect to your SQLite DB (will create if it doesn't exist)\n",
    "conn = sqlite3.connect(r'C:\\Users\\tx400\\SQL_Downloads\\nfl_data_db.sqlite')"
   ]
  },
  {
   "cell_type": "markdown",
   "id": "93d15753-4150-4936-bd4d-728bbf99e64e",
   "metadata": {},
   "source": [
    "#### 9. Import & send officials table to nfldb"
   ]
  },
  {
   "cell_type": "code",
   "execution_count": 3,
   "id": "a9c4719e-4583-4f05-aa69-49ba951e6012",
   "metadata": {},
   "outputs": [
    {
     "data": {
      "text/plain": [
       "(48910, 5)"
      ]
     },
     "execution_count": 3,
     "metadata": {},
     "output_type": "execute_result"
    }
   ],
   "source": [
    "# Import nfl_data_py table(s)\n",
    "df17 = nfl.import_officials(list(range(1999,2025)))\n",
    "df17.shape"
   ]
  },
  {
   "cell_type": "code",
   "execution_count": 4,
   "id": "19ef6862-a899-429c-af3a-61ff48287ded",
   "metadata": {},
   "outputs": [
    {
     "data": {
      "text/plain": [
       "48910"
      ]
     },
     "execution_count": 4,
     "metadata": {},
     "output_type": "execute_result"
    }
   ],
   "source": [
    "# Write the DataFrame to a table\n",
    "df17.to_sql('officials_df', conn, if_exists='replace', index=False)"
   ]
  },
  {
   "cell_type": "markdown",
   "id": "673ed4f3-2a6e-4e59-8ff0-d3a0a6b9b6cd",
   "metadata": {},
   "source": [
    "#### 10. Import & send seasonal rosters table to nfldb"
   ]
  },
  {
   "cell_type": "code",
   "execution_count": 5,
   "id": "087b5038-7b6e-43a4-ad4e-031b73c5585c",
   "metadata": {},
   "outputs": [
    {
     "data": {
      "text/plain": [
       "(63323, 37)"
      ]
     },
     "execution_count": 5,
     "metadata": {},
     "output_type": "execute_result"
    }
   ],
   "source": [
    "# Import nfl_data_py table(s)\n",
    "df18 = nfl.import_seasonal_rosters(list(range(1999,2025)))\n",
    "df18.shape"
   ]
  },
  {
   "cell_type": "code",
   "execution_count": 6,
   "id": "4f5b33dd-8ccb-4f97-8e4c-79869ffbc94e",
   "metadata": {},
   "outputs": [
    {
     "data": {
      "text/plain": [
       "63323"
      ]
     },
     "execution_count": 6,
     "metadata": {},
     "output_type": "execute_result"
    }
   ],
   "source": [
    "# Write the DataFrame to a table\n",
    "df18.to_sql('seasonal_rosters_df', conn, if_exists='replace', index=False)"
   ]
  },
  {
   "cell_type": "markdown",
   "id": "d740bf39-5957-4426-a169-b64a7e9bc7db",
   "metadata": {},
   "source": [
    "#### 11. Import & send weekly rosters table to nfldb"
   ]
  },
  {
   "cell_type": "code",
   "execution_count": 7,
   "id": "05e1fbe3-f315-43ac-9e9c-b412ab18019f",
   "metadata": {},
   "outputs": [
    {
     "data": {
      "text/plain": [
       "(859529, 37)"
      ]
     },
     "execution_count": 7,
     "metadata": {},
     "output_type": "execute_result"
    }
   ],
   "source": [
    "# Import nfl_data_py table(s)\n",
    "df19 = nfl.import_weekly_rosters(list(range(2002,2025)))\n",
    "df19.shape"
   ]
  },
  {
   "cell_type": "code",
   "execution_count": 8,
   "id": "96c22704-c3fe-4017-ad64-c2ed0cbe3744",
   "metadata": {},
   "outputs": [
    {
     "data": {
      "text/plain": [
       "859529"
      ]
     },
     "execution_count": 8,
     "metadata": {},
     "output_type": "execute_result"
    }
   ],
   "source": [
    "# Write the DataFrame to a table\n",
    "df19.to_sql('weekly_rosters_df', conn, if_exists='replace', index=False)"
   ]
  },
  {
   "cell_type": "markdown",
   "id": "55d8821b-5664-489c-af1b-eb5877482e79",
   "metadata": {},
   "source": [
    "#### 12. Import & send players table to nfldb"
   ]
  },
  {
   "cell_type": "code",
   "execution_count": 9,
   "id": "a3ca45aa-3434-43ed-848e-25fed384abe3",
   "metadata": {},
   "outputs": [
    {
     "data": {
      "text/plain": [
       "(24522, 39)"
      ]
     },
     "execution_count": 9,
     "metadata": {},
     "output_type": "execute_result"
    }
   ],
   "source": [
    "# Import nfl_data_py table(s)\n",
    "df20 = nfl.import_players()\n",
    "df20.shape"
   ]
  },
  {
   "cell_type": "code",
   "execution_count": 10,
   "id": "7ef04862-6c1a-43eb-b2fa-f0a5740f6b81",
   "metadata": {},
   "outputs": [
    {
     "data": {
      "text/plain": [
       "24522"
      ]
     },
     "execution_count": 10,
     "metadata": {},
     "output_type": "execute_result"
    }
   ],
   "source": [
    "# Write the DataFrame to a table\n",
    "df20.to_sql('players_df', conn, if_exists='replace', index=False)"
   ]
  },
  {
   "cell_type": "markdown",
   "id": "786bbab0-4700-4c91-a742-4c77b2e5d054",
   "metadata": {},
   "source": [
    "#### 13. Import & send depth charts table to nfldb"
   ]
  },
  {
   "cell_type": "code",
   "execution_count": 11,
   "id": "4abfbf15-52d3-4acd-9413-e31814eda649",
   "metadata": {},
   "outputs": [
    {
     "data": {
      "text/plain": [
       "(869185, 15)"
      ]
     },
     "execution_count": 11,
     "metadata": {},
     "output_type": "execute_result"
    }
   ],
   "source": [
    "# Import nfl_data_py table(s)\n",
    "df21 = nfl.import_depth_charts(list(range(2001,2025)))\n",
    "df21.shape"
   ]
  },
  {
   "cell_type": "code",
   "execution_count": 12,
   "id": "8858e24c-00c8-4dde-ade9-c508dc435b57",
   "metadata": {},
   "outputs": [
    {
     "data": {
      "text/plain": [
       "869185"
      ]
     },
     "execution_count": 12,
     "metadata": {},
     "output_type": "execute_result"
    }
   ],
   "source": [
    "# Write the DataFrame to a table\n",
    "df21.to_sql('depth_chart_df', conn, if_exists='replace', index=False)"
   ]
  },
  {
   "cell_type": "markdown",
   "id": "170d4419-af42-43d7-a1f9-2d84ecae46db",
   "metadata": {},
   "source": [
    "#### 14. Import & send injuries table to nfldb"
   ]
  },
  {
   "cell_type": "code",
   "execution_count": 13,
   "id": "ec2a1c5e-f18d-4090-afee-ef9b606b99a7",
   "metadata": {},
   "outputs": [
    {
     "data": {
      "text/plain": [
       "(84684, 16)"
      ]
     },
     "execution_count": 13,
     "metadata": {},
     "output_type": "execute_result"
    }
   ],
   "source": [
    "# Import nfl_data_py table(s)\n",
    "df22 = nfl.import_injuries(list(range(2009,2025)))\n",
    "df22.shape"
   ]
  },
  {
   "cell_type": "code",
   "execution_count": 14,
   "id": "37c327da-8ca3-4930-976a-f9b4de101f52",
   "metadata": {},
   "outputs": [
    {
     "data": {
      "text/plain": [
       "84684"
      ]
     },
     "execution_count": 14,
     "metadata": {},
     "output_type": "execute_result"
    }
   ],
   "source": [
    "# Write the DataFrame to a table\n",
    "df22.to_sql('injuries_df', conn, if_exists='replace', index=False)"
   ]
  },
  {
   "cell_type": "markdown",
   "id": "39f5c26c-0105-485d-992f-458c4f6ac48f",
   "metadata": {},
   "source": [
    "#### 15. Import & send ids table to nfldb"
   ]
  },
  {
   "cell_type": "code",
   "execution_count": 15,
   "id": "e7ac0c87-e104-4445-bfe8-4bddead45fb9",
   "metadata": {},
   "outputs": [
    {
     "data": {
      "text/plain": [
       "(12096, 35)"
      ]
     },
     "execution_count": 15,
     "metadata": {},
     "output_type": "execute_result"
    }
   ],
   "source": [
    "# Import nfl_data_py table(s)\n",
    "df23 = nfl.import_ids()\n",
    "df23.shape"
   ]
  },
  {
   "cell_type": "code",
   "execution_count": 16,
   "id": "f3f7b349-d264-445f-ae79-670db447fc25",
   "metadata": {},
   "outputs": [
    {
     "data": {
      "text/plain": [
       "12096"
      ]
     },
     "execution_count": 16,
     "metadata": {},
     "output_type": "execute_result"
    }
   ],
   "source": [
    "# Write the DataFrame to a table\n",
    "df23.to_sql('ids_df', conn, if_exists='replace', index=False)"
   ]
  },
  {
   "cell_type": "markdown",
   "id": "9e75bb75-4bcc-462c-abe9-e75975fb2d0f",
   "metadata": {},
   "source": [
    "#### 16. Import & send schedule table to nfldb"
   ]
  },
  {
   "cell_type": "code",
   "execution_count": 17,
   "id": "7e466641-7f28-49f0-a2f1-c232ca8c3d95",
   "metadata": {},
   "outputs": [
    {
     "data": {
      "text/plain": [
       "(6991, 46)"
      ]
     },
     "execution_count": 17,
     "metadata": {},
     "output_type": "execute_result"
    }
   ],
   "source": [
    "# Import nfl_data_py table(s)\n",
    "df24 = nfl.import_schedules(list(range(1999,2025)))\n",
    "df24.shape"
   ]
  },
  {
   "cell_type": "code",
   "execution_count": 18,
   "id": "c3ef6f36-27f9-44c2-8700-d5d5ca6a3e1c",
   "metadata": {},
   "outputs": [
    {
     "data": {
      "text/plain": [
       "6991"
      ]
     },
     "execution_count": 18,
     "metadata": {},
     "output_type": "execute_result"
    }
   ],
   "source": [
    "# Write the DataFrame to a table\n",
    "df24.to_sql('schedules_df', conn, if_exists='replace', index=False)"
   ]
  },
  {
   "cell_type": "code",
   "execution_count": 19,
   "id": "97654696-9775-4220-b5f0-2d3af7486915",
   "metadata": {},
   "outputs": [],
   "source": [
    "conn.close()"
   ]
  },
  {
   "cell_type": "code",
   "execution_count": null,
   "id": "dbe0563f-5f04-4d5b-8924-b98b45300eaf",
   "metadata": {},
   "outputs": [],
   "source": []
  }
 ],
 "metadata": {
  "kernelspec": {
   "display_name": "Python 3 (ipykernel)",
   "language": "python",
   "name": "python3"
  },
  "language_info": {
   "codemirror_mode": {
    "name": "ipython",
    "version": 3
   },
   "file_extension": ".py",
   "mimetype": "text/x-python",
   "name": "python",
   "nbconvert_exporter": "python",
   "pygments_lexer": "ipython3",
   "version": "3.12.6"
  }
 },
 "nbformat": 4,
 "nbformat_minor": 5
}
