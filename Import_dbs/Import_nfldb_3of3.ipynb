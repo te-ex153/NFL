{
 "cells": [
  {
   "cell_type": "markdown",
   "id": "92d2653e-e671-45c8-bbd8-c35733c326de",
   "metadata": {},
   "source": [
    "# Import and send tables to nfl database\n",
    "\n",
    "## 17. import_contracts\n",
    "## 18. import_win_totals\n",
    "## 19. import_sc_lines\n",
    "## 20. import_draft_picks\n",
    "## 21. import_draft_values\n",
    "## 22. import_combine_data\n",
    "## 23. import_ftn\n",
    "## 24. improt_team_desc"
   ]
  },
  {
   "cell_type": "code",
   "execution_count": 1,
   "id": "15a3af06-6fe2-4908-8c92-2ad3a615d374",
   "metadata": {},
   "outputs": [
    {
     "data": {
      "text/plain": [
       "<sqlite3.Connection at 0x1ac5880c8b0>"
      ]
     },
     "execution_count": 1,
     "metadata": {},
     "output_type": "execute_result"
    }
   ],
   "source": [
    "# In Python or a script, just to confirm:\n",
    "import sqlite3\n",
    "sqlite3.connect(r\"C:\\Users\\tx400\\SQL_Downloads\\nfl_data_db.sqlite\")"
   ]
  },
  {
   "cell_type": "code",
   "execution_count": 2,
   "id": "92431333-5dea-49e8-a43b-5dc2f18dbbcf",
   "metadata": {},
   "outputs": [],
   "source": [
    "import nfl_data_py as nfl\n",
    "import sqlite3\n",
    "import pandas as pd\n",
    "import numpy as np\n",
    "\n",
    "# Connect to your SQLite DB (will create if it doesn't exist)\n",
    "conn = sqlite3.connect(r'C:\\Users\\tx400\\SQL_Downloads\\nfl_data_db.sqlite')"
   ]
  },
  {
   "cell_type": "markdown",
   "id": "6eb44771-ee91-4c76-84e4-7147bb925ab3",
   "metadata": {},
   "source": [
    "#### 17. Import & send contracts table to nfl db"
   ]
  },
  {
   "cell_type": "code",
   "execution_count": 3,
   "id": "5dba39af-5395-43f5-95cf-cc4169dd54bb",
   "metadata": {},
   "outputs": [
    {
     "data": {
      "text/plain": [
       "(47093, 25)"
      ]
     },
     "execution_count": 3,
     "metadata": {},
     "output_type": "execute_result"
    }
   ],
   "source": [
    "# Import nfl_data_py table(s)\n",
    "df25 = nfl.import_contracts()\n",
    "df25.shape"
   ]
  },
  {
   "cell_type": "code",
   "execution_count": 4,
   "id": "f9be2f22-5b63-4442-9a36-c977d606d94a",
   "metadata": {},
   "outputs": [
    {
     "data": {
      "text/plain": [
       "47093"
      ]
     },
     "execution_count": 4,
     "metadata": {},
     "output_type": "execute_result"
    }
   ],
   "source": [
    "# Write the DataFrame to a table\n",
    "df25.to_sql('contracts_df', conn, if_exists='replace', index=False)"
   ]
  },
  {
   "cell_type": "markdown",
   "id": "9690c2be-2330-4b4c-8bc9-e54c25f72c6c",
   "metadata": {},
   "source": [
    "#### 18. Import & send win totals table to nfl db"
   ]
  },
  {
   "cell_type": "code",
   "execution_count": 5,
   "id": "00c99603-52d8-4b2d-9a00-5a3bae168072",
   "metadata": {},
   "outputs": [
    {
     "name": "stderr",
     "output_type": "stream",
     "text": [
      "WARNING:root:The win totals data source is currently in flux and may be out of date.\n"
     ]
    },
    {
     "data": {
      "text/plain": [
       "(470217, 9)"
      ]
     },
     "execution_count": 5,
     "metadata": {},
     "output_type": "execute_result"
    }
   ],
   "source": [
    "# Import nfl_data_py table(s)\n",
    "df26 = nfl.import_win_totals()\n",
    "df26.shape"
   ]
  },
  {
   "cell_type": "code",
   "execution_count": 6,
   "id": "6b3a0914-6b2c-40f5-90d5-1ddb5b7a9e3c",
   "metadata": {},
   "outputs": [
    {
     "data": {
      "text/plain": [
       "470217"
      ]
     },
     "execution_count": 6,
     "metadata": {},
     "output_type": "execute_result"
    }
   ],
   "source": [
    "# Write the DataFrame to a table\n",
    "df26.to_sql('win_totals_df', conn, if_exists='replace', index=False)"
   ]
  },
  {
   "cell_type": "markdown",
   "id": "b68e55e5-6009-4656-ab89-bdee23592d7e",
   "metadata": {},
   "source": [
    "#### 19. Import & send scoring lines table to nfl db"
   ]
  },
  {
   "cell_type": "code",
   "execution_count": 7,
   "id": "f693811c-18cb-4ea3-8b66-62b1e264407f",
   "metadata": {},
   "outputs": [
    {
     "data": {
      "text/plain": [
       "(4092, 7)"
      ]
     },
     "execution_count": 7,
     "metadata": {},
     "output_type": "execute_result"
    }
   ],
   "source": [
    "# Import nfl_data_py table(s)\n",
    "df27 = nfl.import_sc_lines()\n",
    "df27.shape"
   ]
  },
  {
   "cell_type": "code",
   "execution_count": 8,
   "id": "3c19f74f-ffdf-4a39-9245-66e20506c2e8",
   "metadata": {},
   "outputs": [
    {
     "data": {
      "text/plain": [
       "4092"
      ]
     },
     "execution_count": 8,
     "metadata": {},
     "output_type": "execute_result"
    }
   ],
   "source": [
    "# Write the DataFrame to a table\n",
    "df27.to_sql('sc_lines_df', conn, if_exists='replace', index=False)"
   ]
  },
  {
   "cell_type": "markdown",
   "id": "39e85f5c-df0e-45ed-b6fd-ce4aa44e6d37",
   "metadata": {},
   "source": [
    "#### 20. Import & send draft picks table to nfl db"
   ]
  },
  {
   "cell_type": "code",
   "execution_count": 9,
   "id": "7b63ccc3-f5f6-4622-aaa7-66f5df50a895",
   "metadata": {},
   "outputs": [
    {
     "data": {
      "text/plain": [
       "(6383, 36)"
      ]
     },
     "execution_count": 9,
     "metadata": {},
     "output_type": "execute_result"
    }
   ],
   "source": [
    "# Import nfl_data_py table(s)\n",
    "df28 = nfl.import_draft_picks(list(range(1999,2024)))\n",
    "df28.shape"
   ]
  },
  {
   "cell_type": "code",
   "execution_count": 10,
   "id": "dba9af22-5477-4404-aa82-471264fdeb38",
   "metadata": {},
   "outputs": [
    {
     "data": {
      "text/plain": [
       "6383"
      ]
     },
     "execution_count": 10,
     "metadata": {},
     "output_type": "execute_result"
    }
   ],
   "source": [
    "# Write the DataFrame to a table\n",
    "df28.to_sql('draft_picks_df', conn, if_exists='replace', index=False)"
   ]
  },
  {
   "cell_type": "markdown",
   "id": "1f2dd0fe-7754-414f-9ae4-2c6c53995a1d",
   "metadata": {},
   "source": [
    "#### 21. Import & send draft values table to nfl db"
   ]
  },
  {
   "cell_type": "code",
   "execution_count": 11,
   "id": "11fcaa84-8ad7-4e39-990a-dd4985e5b17b",
   "metadata": {},
   "outputs": [
    {
     "data": {
      "text/plain": [
       "(262, 6)"
      ]
     },
     "execution_count": 11,
     "metadata": {},
     "output_type": "execute_result"
    }
   ],
   "source": [
    "# Import nfl_data_py table(s)\n",
    "df29 = nfl.import_draft_values()\n",
    "df29.shape"
   ]
  },
  {
   "cell_type": "code",
   "execution_count": 12,
   "id": "4aaf3ac1-caeb-4f98-87fe-326cb114b14d",
   "metadata": {},
   "outputs": [
    {
     "data": {
      "text/plain": [
       "262"
      ]
     },
     "execution_count": 12,
     "metadata": {},
     "output_type": "execute_result"
    }
   ],
   "source": [
    "# Write the DataFrame to a table\n",
    "df29.to_sql('draft_values_df', conn, if_exists='replace', index=False)"
   ]
  },
  {
   "cell_type": "markdown",
   "id": "8d58dc45-947e-48d6-89af-868af425eb23",
   "metadata": {},
   "source": [
    "#### 22. Import & send combine table to nfl db"
   ]
  },
  {
   "cell_type": "code",
   "execution_count": 13,
   "id": "a686df1d-4bf1-42f2-ad6a-b84f9fbc463e",
   "metadata": {},
   "outputs": [
    {
     "data": {
      "text/plain": [
       "(8320, 18)"
      ]
     },
     "execution_count": 13,
     "metadata": {},
     "output_type": "execute_result"
    }
   ],
   "source": [
    "# Import nfl_data_py table(s)\n",
    "df30 = nfl.import_combine_data(list(range(1999,2025)))\n",
    "df30.shape"
   ]
  },
  {
   "cell_type": "code",
   "execution_count": 14,
   "id": "01347350-8e92-49bc-894f-1473184a78de",
   "metadata": {},
   "outputs": [
    {
     "data": {
      "text/plain": [
       "8320"
      ]
     },
     "execution_count": 14,
     "metadata": {},
     "output_type": "execute_result"
    }
   ],
   "source": [
    "# Write the DataFrame to a table\n",
    "df30.to_sql('combine_df', conn, if_exists='replace', index=False)"
   ]
  },
  {
   "cell_type": "markdown",
   "id": "827f6d1a-43d8-49ff-a605-379d22d9e9f8",
   "metadata": {},
   "source": [
    "#### 23. Import & send FTN Charting table to nfl db"
   ]
  },
  {
   "cell_type": "code",
   "execution_count": 15,
   "id": "475700c2-7ab0-4468-9b01-934b62179a3b",
   "metadata": {},
   "outputs": [
    {
     "name": "stdout",
     "output_type": "stream",
     "text": [
      "Downcasting floats.\n"
     ]
    },
    {
     "data": {
      "text/plain": [
       "(137899, 29)"
      ]
     },
     "execution_count": 15,
     "metadata": {},
     "output_type": "execute_result"
    }
   ],
   "source": [
    "# Import nfl_data_py table(s)\n",
    "df31 = nfl.import_ftn_data(list(range(2022,2025)))\n",
    "df31.shape"
   ]
  },
  {
   "cell_type": "code",
   "execution_count": 16,
   "id": "eb967771-9b86-4dce-9de8-1bc2879a3fc0",
   "metadata": {},
   "outputs": [
    {
     "data": {
      "text/plain": [
       "137899"
      ]
     },
     "execution_count": 16,
     "metadata": {},
     "output_type": "execute_result"
    }
   ],
   "source": [
    "# Write the DataFrame to a table\n",
    "df31.to_sql('ftn_df', conn, if_exists='replace', index=False)"
   ]
  },
  {
   "cell_type": "markdown",
   "id": "272c9052-5dfd-4347-b8d4-c5aa93e99733",
   "metadata": {},
   "source": [
    "#### 24. Import & send team description table to nfl db"
   ]
  },
  {
   "cell_type": "code",
   "execution_count": 17,
   "id": "b1a21d29-5c9f-46e6-9011-c1e707a3ee43",
   "metadata": {},
   "outputs": [
    {
     "data": {
      "text/plain": [
       "(36, 16)"
      ]
     },
     "execution_count": 17,
     "metadata": {},
     "output_type": "execute_result"
    }
   ],
   "source": [
    "# Import nfl_data_py table(s)\n",
    "df32 = nfl.import_team_desc()\n",
    "df32.shape"
   ]
  },
  {
   "cell_type": "code",
   "execution_count": 18,
   "id": "99aaa956-ca0e-4a84-b706-82300ae6d331",
   "metadata": {},
   "outputs": [
    {
     "data": {
      "text/plain": [
       "36"
      ]
     },
     "execution_count": 18,
     "metadata": {},
     "output_type": "execute_result"
    }
   ],
   "source": [
    "# Write the DataFrame to a table\n",
    "df32.to_sql('team_desc_df', conn, if_exists='replace', index=False)"
   ]
  },
  {
   "cell_type": "code",
   "execution_count": null,
   "id": "b4a6b170-77d2-4159-8cfe-01be074690ad",
   "metadata": {},
   "outputs": [],
   "source": []
  },
  {
   "cell_type": "code",
   "execution_count": null,
   "id": "33f9f662-6b69-4e31-9b25-539ef6742854",
   "metadata": {},
   "outputs": [],
   "source": []
  }
 ],
 "metadata": {
  "kernelspec": {
   "display_name": "Python 3 (ipykernel)",
   "language": "python",
   "name": "python3"
  },
  "language_info": {
   "codemirror_mode": {
    "name": "ipython",
    "version": 3
   },
   "file_extension": ".py",
   "mimetype": "text/x-python",
   "name": "python",
   "nbconvert_exporter": "python",
   "pygments_lexer": "ipython3",
   "version": "3.12.6"
  }
 },
 "nbformat": 4,
 "nbformat_minor": 5
}
