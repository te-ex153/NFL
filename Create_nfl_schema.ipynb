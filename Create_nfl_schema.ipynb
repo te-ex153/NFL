{
 "cells": [
  {
   "cell_type": "code",
   "execution_count": 3,
   "id": "68c08515-3ff0-4251-8b90-8398d0e71994",
   "metadata": {},
   "outputs": [
    {
     "name": "stdout",
     "output_type": "stream",
     "text": [
      "✅ Schema overview saved to: nfl_schema_overview.xlsx\n"
     ]
    }
   ],
   "source": [
    "# NEW CODE - Script to create a master NFL DB schema view in Excel (with column position)\n",
    "\n",
    "import sqlite3\n",
    "import pandas as pd\n",
    "\n",
    "# === CONFIG ===\n",
    "DB_PATH = r\"C:\\Users\\tx400\\SQL_Downloads\\nfl_data_db.sqlite\"  # change if needed\n",
    "OUTPUT_FILE = \"nfl_schema_overview.xlsx\"\n",
    "\n",
    "# === CONNECT TO DATABASE ===\n",
    "conn = sqlite3.connect(DB_PATH)\n",
    "\n",
    "# === GET LIST OF TABLES ===\n",
    "tables = pd.read_sql(\n",
    "    \"SELECT name FROM sqlite_master WHERE type='table' ORDER BY name;\", conn\n",
    ")[\"name\"]\n",
    "\n",
    "# === COLLECT SCHEMA INFORMATION ===\n",
    "schema = []\n",
    "for t in tables:\n",
    "    cols = pd.read_sql(f\"PRAGMA table_info({t});\", conn)\n",
    "    for _, row in cols.iterrows():\n",
    "        schema.append({\n",
    "            \"table_name\": t,\n",
    "            \"column_name\": row[\"name\"],\n",
    "            \"data_type\": row[\"type\"],\n",
    "            \"column_position\": row[\"cid\"] + 1  # NEW CODE - 1-based column position\n",
    "        })\n",
    "\n",
    "df_schema = pd.DataFrame(schema)\n",
    "\n",
    "# === LONG FORM (Searchable) ===\n",
    "df_long = df_schema.sort_values([\"table_name\", \"column_position\"])\n",
    "\n",
    "# === PIVOTED VIEW (Alignment Sheet) ===\n",
    "pivot = (\n",
    "    df_schema\n",
    "    .assign(present=\"✅\")  # ✅ marker for presence\n",
    "    .pivot_table(index=\"column_name\", columns=\"table_name\", values=\"present\", aggfunc=\"first\", fill_value=\"\")\n",
    "    .reset_index()\n",
    ")\n",
    "\n",
    "# === SAVE TO EXCEL ===\n",
    "with pd.ExcelWriter(OUTPUT_FILE, engine=\"openpyxl\") as writer:\n",
    "    df_long.to_excel(writer, sheet_name=\"Long_Form_Schema\", index=False)\n",
    "    pivot.to_excel(writer, sheet_name=\"Column_Alignment\", index=False)\n",
    "\n",
    "conn.close()\n",
    "\n",
    "print(f\"✅ Schema overview saved to: {OUTPUT_FILE}\")\n"
   ]
  },
  {
   "cell_type": "code",
   "execution_count": null,
   "id": "a359c080-ec97-4403-9f38-cea8b6bc6bd0",
   "metadata": {},
   "outputs": [],
   "source": []
  }
 ],
 "metadata": {
  "kernelspec": {
   "display_name": "Python 3 (ipykernel)",
   "language": "python",
   "name": "python3"
  },
  "language_info": {
   "codemirror_mode": {
    "name": "ipython",
    "version": 3
   },
   "file_extension": ".py",
   "mimetype": "text/x-python",
   "name": "python",
   "nbconvert_exporter": "python",
   "pygments_lexer": "ipython3",
   "version": "3.12.6"
  }
 },
 "nbformat": 4,
 "nbformat_minor": 5
}
