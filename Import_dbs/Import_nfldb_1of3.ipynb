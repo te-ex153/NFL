{
 "cells": [
  {
   "cell_type": "markdown",
   "id": "3f564fb7-7f34-4a56-bc0d-6fe48d27c4e2",
   "metadata": {},
   "source": [
    "# Import and send tables to nfl database\n",
    "## 1. import_pbp_data\n",
    "## 2. import_weekly_data\n",
    "## 3. import_seasonal_data\n",
    "## 4. import_snap_counts\n",
    "## 5. import_ngs_data\n",
    "## 6. import_qbr_data\n",
    "## 7. import_seasonal_pfr\n",
    "## 8. import_weekly_pfr\n"
   ]
  },
  {
   "cell_type": "code",
   "execution_count": 1,
   "id": "18251d23-faa4-47e0-ba24-5c61b3d3451d",
   "metadata": {},
   "outputs": [
    {
     "data": {
      "text/plain": [
       "<sqlite3.Connection at 0x28ef3d3d030>"
      ]
     },
     "execution_count": 1,
     "metadata": {},
     "output_type": "execute_result"
    }
   ],
   "source": [
    "# In Python or a script, just to confirm:\n",
    "import sqlite3\n",
    "sqlite3.connect(r\"C:\\Users\\tx400\\SQL_Downloads\\nfl_data_db.sqlite\")\n"
   ]
  },
  {
   "cell_type": "code",
   "execution_count": 2,
   "id": "28254406-07e7-460c-8f5c-54b80d33527b",
   "metadata": {},
   "outputs": [],
   "source": [
    "import nfl_data_py as nfl\n",
    "import sqlite3\n",
    "import pandas as pd\n",
    "import numpy as np\n",
    "\n",
    "# Connect to your SQLite DB (will create if it doesn't exist)\n",
    "conn = sqlite3.connect(r'C:\\Users\\tx400\\SQL_Downloads\\nfl_data_db.sqlite')"
   ]
  },
  {
   "cell_type": "markdown",
   "id": "7c1bfd9c-d847-4d4d-b2ef-e6365ea013f2",
   "metadata": {},
   "source": [
    "#### 1. Import & send pbp table to nfl db"
   ]
  },
  {
   "cell_type": "code",
   "execution_count": 3,
   "id": "9ac80981-9de4-423b-8790-44917442f504",
   "metadata": {},
   "outputs": [
    {
     "name": "stdout",
     "output_type": "stream",
     "text": [
      "1999 done.\n",
      "2000 done.\n",
      "2001 done.\n",
      "2002 done.\n",
      "2003 done.\n",
      "2004 done.\n",
      "2005 done.\n",
      "2006 done.\n",
      "2007 done.\n",
      "2008 done.\n",
      "2009 done.\n",
      "2010 done.\n",
      "2011 done.\n",
      "2012 done.\n",
      "2013 done.\n",
      "2014 done.\n",
      "2015 done.\n",
      "2016 done.\n",
      "2017 done.\n",
      "2018 done.\n",
      "2019 done.\n",
      "2020 done.\n",
      "2021 done.\n",
      "2022 done.\n",
      "2023 done.\n",
      "2024 done.\n",
      "Downcasting floats.\n"
     ]
    }
   ],
   "source": [
    "# Import nfl_data_py table(s)\n",
    "df1 = nfl.import_pbp_data(list(range(1999,2025)))"
   ]
  },
  {
   "cell_type": "code",
   "execution_count": 4,
   "id": "64754e66-0fc0-4042-8450-9709994f659c",
   "metadata": {},
   "outputs": [
    {
     "data": {
      "text/plain": [
       "1230857"
      ]
     },
     "execution_count": 4,
     "metadata": {},
     "output_type": "execute_result"
    }
   ],
   "source": [
    "# Write the DataFrame to a table\n",
    "df1.to_sql('pbp_stats_df', conn, if_exists='replace', index=False)"
   ]
  },
  {
   "cell_type": "markdown",
   "id": "84571326-8da7-45a3-94f8-19ae2a9dc6c3",
   "metadata": {},
   "source": [
    "#### 2. Import & send weekly table to nfl db"
   ]
  },
  {
   "cell_type": "code",
   "execution_count": 5,
   "id": "5d9077c8-cff5-486d-806a-fd10fe1104d1",
   "metadata": {},
   "outputs": [
    {
     "name": "stdout",
     "output_type": "stream",
     "text": [
      "Downcasting floats.\n"
     ]
    },
    {
     "data": {
      "text/plain": [
       "(134470, 53)"
      ]
     },
     "execution_count": 5,
     "metadata": {},
     "output_type": "execute_result"
    }
   ],
   "source": [
    "# Import nfl_data_py table(s)\n",
    "# Write the DataFrame to a table\n",
    "df2 = nfl.import_weekly_data(list(range(1999,2025)))\n",
    "df2.shape"
   ]
  },
  {
   "cell_type": "code",
   "execution_count": 6,
   "id": "96a4905a-2e09-4903-a070-94aefd36ebad",
   "metadata": {},
   "outputs": [
    {
     "data": {
      "text/plain": [
       "134470"
      ]
     },
     "execution_count": 6,
     "metadata": {},
     "output_type": "execute_result"
    }
   ],
   "source": [
    "# Write the DataFrame to a table\n",
    "df2.to_sql('weekly_stats_df', conn, if_exists='replace', index=False)"
   ]
  },
  {
   "cell_type": "markdown",
   "id": "e87ca764-d176-4323-b315-a8c4635d9ce6",
   "metadata": {},
   "source": [
    "#### 3. Import & send seasonal data table to nfl db"
   ]
  },
  {
   "cell_type": "code",
   "execution_count": 7,
   "id": "0a991b64-f00a-44ee-b541-56d30a7f88c7",
   "metadata": {},
   "outputs": [
    {
     "data": {
      "text/plain": [
       "(15102, 58)"
      ]
     },
     "execution_count": 7,
     "metadata": {},
     "output_type": "execute_result"
    }
   ],
   "source": [
    "# Import nfl_data_py table(s)\n",
    "df3 = nfl.import_seasonal_data(list(range(1999,2025)))\n",
    "df3.shape"
   ]
  },
  {
   "cell_type": "code",
   "execution_count": 8,
   "id": "d15a602b-174a-4951-accc-36af78ddc733",
   "metadata": {},
   "outputs": [
    {
     "data": {
      "text/plain": [
       "15102"
      ]
     },
     "execution_count": 8,
     "metadata": {},
     "output_type": "execute_result"
    }
   ],
   "source": [
    "# Write the DataFrame to a table\n",
    "df3.to_sql('seasonal_stats_df', conn, if_exists='replace', index=False)\n"
   ]
  },
  {
   "cell_type": "markdown",
   "id": "c08c35e6-edf4-4c92-af08-972f1ac265ad",
   "metadata": {},
   "source": [
    "#### 4. Import and send snap counts table to nfl db"
   ]
  },
  {
   "cell_type": "code",
   "execution_count": 9,
   "id": "77ded427-9b11-4841-ae2e-3bc62f7d6446",
   "metadata": {},
   "outputs": [
    {
     "data": {
      "text/plain": [
       "(295583, 17)"
      ]
     },
     "execution_count": 9,
     "metadata": {},
     "output_type": "execute_result"
    }
   ],
   "source": [
    "# Import nfl_data_py table(s)\n",
    "df4 = nfl.import_snap_counts(list(range(2012,2025)))\n",
    "df4.shape"
   ]
  },
  {
   "cell_type": "code",
   "execution_count": 10,
   "id": "720e4c3a-f17a-403c-a295-001937bb1c43",
   "metadata": {},
   "outputs": [
    {
     "data": {
      "text/plain": [
       "295583"
      ]
     },
     "execution_count": 10,
     "metadata": {},
     "output_type": "execute_result"
    }
   ],
   "source": [
    "# Write the DataFrame to a table\n",
    "df4.to_sql('snap_counts_df', conn, if_exists='replace', index=False)"
   ]
  },
  {
   "cell_type": "markdown",
   "id": "3df42c25-00a5-4b0d-8a46-bdaafe05aebd",
   "metadata": {},
   "source": [
    "#### 5. Import and send ngs data to nfl db"
   ]
  },
  {
   "cell_type": "code",
   "execution_count": 11,
   "id": "49ed5d3b-c07a-4e7d-996d-8c62f4f5604d",
   "metadata": {},
   "outputs": [
    {
     "name": "stdout",
     "output_type": "stream",
     "text": [
      "receiving df shape (1601, 23)\n",
      "rushing df shape (579, 22)\n",
      "passing df shape (573, 29)\n"
     ]
    }
   ],
   "source": [
    "# Import nfl_data_py table(s)\n",
    "df5 = nfl.import_ngs_data(stat_type='receiving', years=[2016,2025])\n",
    "df6 = nfl.import_ngs_data(stat_type='rushing', years=[2016,2025])\n",
    "df7 = nfl.import_ngs_data(stat_type='passing', years=[2016,2025])\n",
    "print('receiving df shape', df5.shape)\n",
    "print('rushing df shape', df6.shape)\n",
    "print('passing df shape', df7.shape)"
   ]
  },
  {
   "cell_type": "code",
   "execution_count": 12,
   "id": "0a8dbd7a-45a2-4e4c-b8f7-6c316793f90a",
   "metadata": {},
   "outputs": [
    {
     "data": {
      "text/plain": [
       "573"
      ]
     },
     "execution_count": 12,
     "metadata": {},
     "output_type": "execute_result"
    }
   ],
   "source": [
    "# Write the DataFrame to a table\n",
    "df5.to_sql('ngs_rec_df', conn, if_exists='replace', index=False)\n",
    "df6.to_sql('ngs_rush_df', conn, if_exists='replace', index=False)\n",
    "df7.to_sql('ngs_pass_df', conn, if_exists='replace', index=False)"
   ]
  },
  {
   "cell_type": "markdown",
   "id": "c33503da-51bc-4560-83a6-408ac62cd230",
   "metadata": {},
   "source": [
    "#### 6. Import and send qbr data to nfl db"
   ]
  },
  {
   "cell_type": "code",
   "execution_count": 13,
   "id": "9b38f845-a9f6-487d-843d-927e71afa844",
   "metadata": {},
   "outputs": [
    {
     "data": {
      "text/plain": [
       "(1363, 23)"
      ]
     },
     "execution_count": 13,
     "metadata": {},
     "output_type": "execute_result"
    }
   ],
   "source": [
    "# Import nfl_data_py table(s)\n",
    "df8 = nfl.import_qbr()\n",
    "df8.shape"
   ]
  },
  {
   "cell_type": "code",
   "execution_count": 14,
   "id": "04f3aa8f-9053-4d8b-bb60-9f027b2cf6cc",
   "metadata": {},
   "outputs": [
    {
     "data": {
      "text/plain": [
       "1363"
      ]
     },
     "execution_count": 14,
     "metadata": {},
     "output_type": "execute_result"
    }
   ],
   "source": [
    "# Write the DataFrame to a table\n",
    "df8.to_sql('qbr_df', conn, if_exists='replace', index=False)"
   ]
  },
  {
   "cell_type": "markdown",
   "id": "4f1d63fd-873c-455a-9a06-c3c43ce4b168",
   "metadata": {},
   "source": [
    "#### 7. Import and send seasonal pro football reference stats table to nfl db"
   ]
  },
  {
   "cell_type": "code",
   "execution_count": 15,
   "id": "d7685b86-9fc1-4940-811d-108ff381251f",
   "metadata": {},
   "outputs": [
    {
     "name": "stdout",
     "output_type": "stream",
     "text": [
      "pass shape (750, 37)\n",
      "rec shape (3599, 25)\n",
      "rush shape (2471, 19)\n",
      "def shape (6512, 30)\n"
     ]
    }
   ],
   "source": [
    "# Import nfl_data_py table(s)\n",
    "df9 = nfl.import_seasonal_pfr('pass', years=list(range(2018,2025)))\n",
    "df10 = nfl.import_seasonal_pfr('rec', years=list(range(2018,2025)))\n",
    "df11 = nfl.import_seasonal_pfr('rush', years=list(range(2018,2025)))\n",
    "df12 = nfl.import_seasonal_pfr('def', years=list(range(2018,2025)))\n",
    "print('pass shape',df9.shape)\n",
    "print('rec shape',df10.shape)\n",
    "print('rush shape',df11.shape)\n",
    "print('def shape',df12.shape)"
   ]
  },
  {
   "cell_type": "code",
   "execution_count": 16,
   "id": "88ed2284-2ede-44bd-b915-c1cf0b54c52e",
   "metadata": {},
   "outputs": [
    {
     "data": {
      "text/plain": [
       "6512"
      ]
     },
     "execution_count": 16,
     "metadata": {},
     "output_type": "execute_result"
    }
   ],
   "source": [
    "# Write the DataFrame to a table\n",
    "df9.to_sql('seasonal_pass_pfr_df', conn, if_exists='replace', index=False)\n",
    "df10.to_sql('seasonal_rec_pfr_df', conn, if_exists='replace', index=False)\n",
    "df11.to_sql('sesonal_rush_pfr_df', conn, if_exists='replace', index=False)\n",
    "df12.to_sql('sesonal_def_pfr_df', conn, if_exists='replace', index=False)"
   ]
  },
  {
   "cell_type": "markdown",
   "id": "43efe5e0-8a88-4dbd-995a-b27198fb6edf",
   "metadata": {},
   "source": [
    "#### 8. Import and send weekly_rosters to nfl db"
   ]
  },
  {
   "cell_type": "code",
   "execution_count": 17,
   "id": "ee804ceb-d700-40dd-ada0-fa20f4ecf0e3",
   "metadata": {},
   "outputs": [
    {
     "name": "stdout",
     "output_type": "stream",
     "text": [
      "pass shape (4740, 24)\n",
      "rec shape (31191, 17)\n",
      "rush shape (16106, 16)\n",
      "def shape (54419, 29)\n"
     ]
    }
   ],
   "source": [
    "# Import nfl_data_py table(s)\n",
    "df13 = nfl.import_weekly_pfr('pass', years=list(range(2018, 2025)))\n",
    "df14 = nfl.import_weekly_pfr('rec', years=list(range(2018, 2025)))\n",
    "df15 = nfl.import_weekly_pfr('rush', years=list(range(2018, 2025)))\n",
    "df16 = nfl.import_weekly_pfr('def', years=list(range(2018, 2025)))\n",
    "print('pass shape',df13.shape)\n",
    "print('rec shape',df14.shape)\n",
    "print('rush shape',df15.shape)\n",
    "print('def shape',df16.shape)"
   ]
  },
  {
   "cell_type": "code",
   "execution_count": 18,
   "id": "9678471c-210c-49d2-98c3-6fae6b86477a",
   "metadata": {},
   "outputs": [
    {
     "data": {
      "text/plain": [
       "54419"
      ]
     },
     "execution_count": 18,
     "metadata": {},
     "output_type": "execute_result"
    }
   ],
   "source": [
    "# Write the DataFrame to a table\n",
    "df13.to_sql('weekly_pass_pfr_df', conn, if_exists='replace', index=False)\n",
    "df14.to_sql('weekly_rec_pfr_df', conn, if_exists='replace', index=False)\n",
    "df15.to_sql('weekly_rush_pfr_df', conn, if_exists='replace', index=False)\n",
    "df16.to_sql('weekly_def_pfr_df', conn, if_exists='replace', index=False)"
   ]
  },
  {
   "cell_type": "code",
   "execution_count": 19,
   "id": "173abb22-f046-460e-a482-4b56bf782804",
   "metadata": {},
   "outputs": [],
   "source": [
    "# close sqlite connection\n",
    "conn.close()"
   ]
  }
 ],
 "metadata": {
  "kernelspec": {
   "display_name": "Python 3 (ipykernel)",
   "language": "python",
   "name": "python3"
  },
  "language_info": {
   "codemirror_mode": {
    "name": "ipython",
    "version": 3
   },
   "file_extension": ".py",
   "mimetype": "text/x-python",
   "name": "python",
   "nbconvert_exporter": "python",
   "pygments_lexer": "ipython3",
   "version": "3.12.6"
  }
 },
 "nbformat": 4,
 "nbformat_minor": 5
}
